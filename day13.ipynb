{
 "cells": [
  {
   "cell_type": "code",
   "execution_count": 1,
   "metadata": {
    "collapsed": false
   },
   "outputs": [
   ],
   "source": [
    "import numpy as np"
   ]
  },
  {
   "cell_type": "code",
   "execution_count": 2,
   "metadata": {
    "collapsed": false
   },
   "outputs": [
   ],
   "source": [
    "names = np.array([\"Kelly\",\"Ben\",\"Jack\",\"Muhammad\",\"Jose\", \"Liz\"])\n",
    "grades = np.array([45,      65,    75,      35,     85,     40])\n",
    "classes = np.array([\"a\",    \"c\",   \"e\",     \"g\",    \"e\",    \"f\"])"
   ]
  },
  {
   "cell_type": "markdown",
   "metadata": {
    "collapsed": false
   },
   "source": [
    "#### 1. Write a code that returns all the names and number of students from class \"e\" who got over 50 marks"
   ]
  },
  {
   "cell_type": "code",
   "execution_count": 6,
   "metadata": {
    "collapsed": false
   },
   "outputs": [
    {
     "name": "stdout",
     "output_type": "stream",
     "text": [
      "The students who got over 50 marks in class 'e' are: ['Jack' 'Jose']\n",
      "Number of students who got over 50 marks in class 'e' is: 2\n"
     ]
    }
   ],
   "source": [
    "# Select the indexes of students in class \"e\" and who scored over 50 marks\n",
    "indexes_selected = np.logical_and(grades > 50, classes == \"e\")\n",
    "\n",
    "# Names of the students who meet the criteria\n",
    "names_selected = names[indexes_selected]\n",
    "\n",
    "# Number of students who meet the criteria\n",
    "number_of_students = len(names_selected)\n",
    "\n",
    "# Print the results\n",
    "print(f\"The students who got over 50 marks in class 'e' are: {names_selected}\")\n",
    "print(f\"Number of students who got over 50 marks in class 'e' is: {number_of_students}\")"
   ]
  },
  {
   "cell_type": "markdown",
   "metadata": {
    "collapsed": false
   },
   "source": [
    "#### 2. Write a code that returns all the students who got less than 75 marks"
   ]
  },
  {
   "cell_type": "code",
   "execution_count": 12,
   "metadata": {
    "collapsed": false
   },
   "outputs": [
    {
     "name": "stdout",
     "output_type": "stream",
     "text": [
      "Names of students who got less then 75 marks:  ['Kelly' 'Ben' 'Muhammad' 'Liz']\n"
     ]
    }
   ],
   "source": [
    "print(f\"Names of students who got less then 75 marks: \", names[grades < 75])"
   ]
  },
  {
   "cell_type": "markdown",
   "metadata": {
    "collapsed": false
   },
   "source": [
    "#### 3. Write a code that returns how many marks a student named Liz got"
   ]
  },
  {
   "cell_type": "code",
   "execution_count": 37,
   "metadata": {
    "collapsed": false
   },
   "outputs": [
    {
     "name": "stdout",
     "output_type": "stream",
     "text": [
      "Liz got 40 marks\n"
     ]
    }
   ],
   "source": [
    "liz_index = np.where(names == \"Liz\")[0][0]\n",
    "liz_mark = grades[liz_index]\n",
    "print(f\"Liz got {liz_mark} marks\")"
   ]
  },
  {
   "cell_type": "markdown",
   "metadata": {
    "collapsed": false
   },
   "source": [
    "### # 4. Which student got the highest mark?"
   ]
  },
  {
   "cell_type": "code",
   "execution_count": 50,
   "metadata": {
    "collapsed": false
   },
   "outputs": [
    {
     "name": "stdout",
     "output_type": "stream",
     "text": [
      "Jose got 85, the highest mark,\n"
     ]
    }
   ],
   "source": [
    "# Index of the student who got the highest mark\n",
    "highest_grade_index = np.argmax(grades)\n",
    "\n",
    "# Name of the student who got the highest mark\n",
    "highest_grade_name = names[highest_grade_index]\n",
    "\n",
    "# Highest mark of the student\n",
    "highest_grade_marks = grades[highest_grade_index]\n",
    "\n",
    "# Print the results\n",
    "print(f\"{highest_grade_name} got {highest_grade_marks}, the highest mark,\")"
   ]
  },
  {
   "cell_type": "code",
   "execution_count": 0,
   "metadata": {
    "collapsed": false
   },
   "outputs": [
   ],
   "source": [
   ]
  }
 ],
 "metadata": {
  "kernelspec": {
   "argv": [
    "/ext/anaconda2021.11/bin/python3",
    "-E",
    "-m",
    "ipykernel",
    "--matplotlib=inline",
    "-c",
    "%config InlineBackend.figure_formats = set(['retina'])\nimport matplotlib; matplotlib.rcParams['figure.figsize'] = (12, 7)",
    "-f",
    "{connection_file}"
   ],
   "display_name": "Python 3 (Anaconda 2021)",
   "env": {
    "ADDR2LINE": "/ext/anaconda2021.11/bin/x86_64-conda_cos6-linux-gnu-addr2line",
    "ANACONDA2021": "/ext/anaconda2021.11",
    "ANACONDA3": "$EXT/anaconda3",
    "ANACONDA5": "$EXT/anaconda5",
    "AR": "/ext/anaconda2021.11/bin/x86_64-conda_cos6-linux-gnu-ar",
    "AS": "/ext/anaconda2021.11/bin/x86_64-conda_cos6-linux-gnu-as",
    "CC": "/ext/anaconda2021.11/bin/x86_64-conda_cos6-linux-gnu-cc",
    "CFLAGS": "-march=nocona -mtune=haswell -ftree-vectorize -fPIC -fstack-protector-strong -fno-plt -O2 -ffunction-sections -pipe -isystem /ext/anaconda2021.11/include",
    "CMAKE_PREFIX_PATH": "/ext/anaconda2021.11:/ext/anaconda2021.11/x86_64-conda_cos6-linux-gnu/sysroot/usr",
    "CONDA_BACKUP_HOST": "x86_64-conda_cos6-linux-gnu",
    "CONDA_BUILD_SYSROOT": "/ext/anaconda2021.11/x86_64-conda_cos6-linux-gnu/sysroot",
    "CONDA_DEFAULT_ENV": "base",
    "CONDA_EXE": "/ext/anaconda2021.11/bin/conda",
    "CONDA_MKL_INTERFACE_LAYER_BACKUP": "",
    "CONDA_PREFIX": "/ext/anaconda2021.11",
    "CONDA_PROMPT_MODIFIER": "(base) ",
    "CONDA_PYTHON_EXE": "/ext/anaconda2021.11/bin/python",
    "CONDA_SHLVL": "1",
    "CPP": "/ext/anaconda2021.11/bin/x86_64-conda_cos6-linux-gnu-cpp",
    "CPPFLAGS": "-DNDEBUG -D_FORTIFY_SOURCE=2 -O2 -isystem /ext/anaconda2021.11/include",
    "CXX": "/ext/anaconda2021.11/bin/x86_64-conda_cos6-linux-gnu-c++",
    "CXXFILT": "/ext/anaconda2021.11/bin/x86_64-conda_cos6-linux-gnu-c++filt",
    "CXXFLAGS": "-fvisibility-inlines-hidden -std=c++17 -fmessage-length=0 -march=nocona -mtune=haswell -ftree-vectorize -fPIC -fstack-protector-strong -fno-plt -O2 -ffunction-sections -pipe -isystem /ext/anaconda2021.11/include",
    "DEBUG_CFLAGS": "-march=nocona -mtune=haswell -ftree-vectorize -fPIC -fstack-protector-all -fno-plt -Og -g -Wall -Wextra -fvar-tracking-assignments -ffunction-sections -pipe -isystem /ext/anaconda2021.11/include",
    "DEBUG_CPPFLAGS": "-D_DEBUG -D_FORTIFY_SOURCE=2 -Og -isystem /ext/anaconda2021.11/include",
    "DEBUG_CXXFLAGS": "-fvisibility-inlines-hidden -std=c++17 -fmessage-length=0 -march=nocona -mtune=haswell -ftree-vectorize -fPIC -fstack-protector-all -fno-plt -Og -g -Wall -Wextra -fvar-tracking-assignments -ffunction-sections -pipe -isystem /ext/anaconda2021.11/include",
    "DEBUG_FFLAGS": "-fopenmp -march=nocona -mtune=haswell -ftree-vectorize -fPIC -fstack-protector-strong -fno-plt -O2 -ffunction-sections -pipe -isystem /ext/anaconda2021.11/include -fopenmp -march=nocona -mtune=haswell -ftree-vectorize -fPIC -fstack-protector-all -fno-plt -Og -g -Wall -Wextra -fcheck=all -fbacktrace -fimplicit-none -fvar-tracking-assignments -ffunction-sections -pipe",
    "DEBUG_FORTRANFLAGS": "-fopenmp -march=nocona -mtune=haswell -ftree-vectorize -fPIC -fstack-protector-strong -fno-plt -O2 -ffunction-sections -pipe -isystem /ext/anaconda2021.11/include -fopenmp -march=nocona -mtune=haswell -ftree-vectorize -fPIC -fstack-protector-all -fno-plt -Og -g -Wall -Wextra -fcheck=all -fbacktrace -fimplicit-none -fvar-tracking-assignments -ffunction-sections -pipe",
    "ELFEDIT": "/ext/anaconda2021.11/bin/x86_64-conda_cos6-linux-gnu-elfedit",
    "F77": "/ext/anaconda2021.11/bin/x86_64-conda_cos6-linux-gnu-gfortran",
    "F90": "/ext/anaconda2021.11/bin/x86_64-conda_cos6-linux-gnu-gfortran",
    "F95": "/ext/anaconda2021.11/bin/x86_64-conda_cos6-linux-gnu-f95",
    "FC": "/ext/anaconda2021.11/bin/x86_64-conda_cos6-linux-gnu-gfortran",
    "FFLAGS": "-fopenmp -march=nocona -mtune=haswell -ftree-vectorize -fPIC -fstack-protector-strong -fno-plt -O2 -ffunction-sections -pipe -isystem /ext/anaconda2021.11/include",
    "FORTRANFLAGS": "-fopenmp -march=nocona -mtune=haswell -ftree-vectorize -fPIC -fstack-protector-strong -fno-plt -O2 -ffunction-sections -pipe -isystem /ext/anaconda2021.11/include",
    "GCC": "/ext/anaconda2021.11/bin/x86_64-conda_cos6-linux-gnu-gcc",
    "GCC_AR": "/ext/anaconda2021.11/bin/x86_64-conda_cos6-linux-gnu-gcc-ar",
    "GCC_NM": "/ext/anaconda2021.11/bin/x86_64-conda_cos6-linux-gnu-gcc-nm",
    "GCC_RANLIB": "/ext/anaconda2021.11/bin/x86_64-conda_cos6-linux-gnu-gcc-ranlib",
    "GDAL_DATA": "/ext/anaconda2021.11/share/gdal",
    "GFORTRAN": "/ext/anaconda2021.11/bin/x86_64-conda_cos6-linux-gnu-gfortran",
    "GPROF": "/ext/anaconda2021.11/bin/x86_64-conda_cos6-linux-gnu-gprof",
    "GXX": "/ext/anaconda2021.11/bin/x86_64-conda_cos6-linux-gnu-g++",
    "JAVA_HOME": "/ext/anaconda2021.11",
    "JAVA_HOME_CONDA_BACKUP": "",
    "JAVA_LD_LIBRARY_PATH": "/ext/anaconda2021.11/lib/server",
    "LD": "/ext/anaconda2021.11/bin/x86_64-conda_cos6-linux-gnu-ld",
    "LDFLAGS": "-Wl,-O2 -Wl,--sort-common -Wl,--as-needed -Wl,-z,relro -Wl,-z,now -Wl,--disable-new-dtags -Wl,--gc-sections -Wl,-rpath,/ext/anaconda2021.11/lib -Wl,-rpath-link,/ext/anaconda2021.11/lib -L/ext/anaconda2021.11/lib",
    "LD_GOLD": "/ext/anaconda2021.11/bin/x86_64-conda_cos6-linux-gnu-ld.gold",
    "LD_LIBRARY_PATH": "/ext/anaconda2021.11/lib",
    "MKL_INTERFACE_LAYER": "LP64,GNU",
    "MKL_THREADING_LAYER": "GNU",
    "NM": "/ext/anaconda2021.11/bin/x86_64-conda_cos6-linux-gnu-nm",
    "OBJCOPY": "/ext/anaconda2021.11/bin/x86_64-conda_cos6-linux-gnu-objcopy",
    "OBJDUMP": "/ext/anaconda2021.11/bin/x86_64-conda_cos6-linux-gnu-objdump",
    "OLDPWD": "/ext/anaconda2021.11",
    "PATH": "/ext/anaconda2021.11/bin:/ext/anaconda2021.11/bin:/ext/anaconda2021.11/condabin:/cocalc/bin:/cocalc/src/smc-project/bin:/home/salvus/bin:/home/salvus/.local/bin:/usr/lib/xpra:/ext/bin:/opt/ghc/bin:/usr/local/sbin:/usr/local/bin:/usr/sbin:/usr/bin:/sbin:/bin:/snap/bin:/usr/lib/postgresql/10/bin:/ext/data/homer/bin:/ext/data/weblogo",
    "PROJ_LIB": "/ext/anaconda2021.11/share/proj",
    "RANLIB": "/ext/anaconda2021.11/bin/x86_64-conda_cos6-linux-gnu-ranlib",
    "READELF": "/ext/anaconda2021.11/bin/x86_64-conda_cos6-linux-gnu-readelf",
    "RSTUDIO_WHICH_R": "/ext/anaconda2021.11/bin/R",
    "SIZE": "/ext/anaconda2021.11/bin/x86_64-conda_cos6-linux-gnu-size",
    "STRINGS": "/ext/anaconda2021.11/bin/x86_64-conda_cos6-linux-gnu-strings",
    "STRIP": "/ext/anaconda2021.11/bin/x86_64-conda_cos6-linux-gnu-strip",
    "_CE_CONDA": "",
    "_CE_M": "",
    "_CONDA_PYTHON_SYSCONFIGDATA_NAME": "_sysconfigdata_x86_64_conda_cos6_linux_gnu"
   },
   "language": "python",
   "metadata": {
    "cocalc": {
     "description": "Anaconda 2021.11 Python 3 environment",
     "priority": 10,
     "url": "https://www.anaconda.com/distribution/"
    }
   },
   "name": "anaconda2021",
   "resource_dir": "/ext/jupyter/kernels/anaconda2021"
  },
  "language_info": {
   "codemirror_mode": {
    "name": "ipython",
    "version": 3
   },
   "file_extension": ".py",
   "mimetype": "text/x-python",
   "name": "python",
   "nbconvert_exporter": "python",
   "pygments_lexer": "ipython3",
   "version": "3.9.7"
  }
 },
 "nbformat": 4,
 "nbformat_minor": 4
}